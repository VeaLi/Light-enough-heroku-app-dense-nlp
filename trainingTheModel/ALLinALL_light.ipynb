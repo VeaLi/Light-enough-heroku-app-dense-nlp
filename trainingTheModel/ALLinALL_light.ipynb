{
 "cells": [
  {
   "cell_type": "code",
   "execution_count": 1,
   "metadata": {
    "ExecuteTime": {
     "end_time": "2020-12-16T17:26:03.945988Z",
     "start_time": "2020-12-16T17:25:57.550968Z"
    }
   },
   "outputs": [],
   "source": [
    "import gc\n",
    "import random\n",
    "import re\n",
    "from collections import Counter, defaultdict\n",
    "\n",
    "import joblib\n",
    "import matplotlib.pyplot as plt\n",
    "import numpy as np\n",
    "import seaborn as sns\n",
    "from nltk.corpus import stopwords, wordnet\n",
    "from nltk.stem import WordNetLemmatizer\n",
    "from sklearn.feature_extraction.text import TfidfVectorizer\n",
    "from sklearn.model_selection import train_test_split\n",
    "from tensorflow import keras\n",
    "from tqdm.notebook import tqdm\n",
    "\n",
    "sns.set()\n",
    "np.random.seed(7)\n",
    "\n",
    "layers = keras.layers\n",
    "models = keras.models\n",
    "\n",
    "lemmatizer = WordNetLemmatizer()\n",
    "gc.enable()"
   ]
  },
  {
   "cell_type": "markdown",
   "metadata": {
    "ExecuteTime": {
     "end_time": "2020-12-16T17:26:03.961617Z",
     "start_time": "2020-12-16T17:26:03.945988Z"
    }
   },
   "source": [
    "Will not use stopwords because, we might need such words as 'we' or 'doesn't for analysis."
   ]
  },
  {
   "cell_type": "code",
   "execution_count": 3,
   "metadata": {
    "ExecuteTime": {
     "end_time": "2020-12-16T17:26:03.983767Z",
     "start_time": "2020-12-16T17:26:03.961617Z"
    }
   },
   "outputs": [],
   "source": [
    "import os"
   ]
  },
  {
   "cell_type": "code",
   "execution_count": 4,
   "metadata": {
    "ExecuteTime": {
     "end_time": "2020-12-16T17:26:03.999393Z",
     "start_time": "2020-12-16T17:26:03.983767Z"
    }
   },
   "outputs": [
    {
     "data": {
      "text/plain": [
       "['imdb.vocab', 'imdbEr.txt', 'README', 'test', 'train']"
      ]
     },
     "execution_count": 4,
     "metadata": {},
     "output_type": "execute_result"
    }
   ],
   "source": [
    "# assumed that you have a data if not fetch here :\n",
    "# https://ai.stanford.edu/~amaas/data/sentiment/aclImdb_v1.tar.gz\n",
    "os.listdir(\"aclImdb_v1.tar/aclImdb\")"
   ]
  },
  {
   "cell_type": "code",
   "execution_count": 5,
   "metadata": {
    "ExecuteTime": {
     "end_time": "2020-12-16T17:26:04.015022Z",
     "start_time": "2020-12-16T17:26:03.999393Z"
    }
   },
   "outputs": [],
   "source": [
    "path = \"aclImdb_v1.tar/aclImdb\"\n",
    "test = path + '/' + \"test/\"\n",
    "train = path + '/' + \"train/\""
   ]
  },
  {
   "cell_type": "code",
   "execution_count": 6,
   "metadata": {
    "ExecuteTime": {
     "end_time": "2020-12-16T17:26:04.030654Z",
     "start_time": "2020-12-16T17:26:04.015022Z"
    }
   },
   "outputs": [
    {
     "data": {
      "text/plain": [
       "['labeledBow.feat', 'neg', 'pos', 'urls_neg.txt', 'urls_pos.txt']"
      ]
     },
     "execution_count": 6,
     "metadata": {},
     "output_type": "execute_result"
    }
   ],
   "source": [
    "os.listdir(test)"
   ]
  },
  {
   "cell_type": "markdown",
   "metadata": {},
   "source": [
    "Let's normalize data anyway :"
   ]
  },
  {
   "cell_type": "code",
   "execution_count": 7,
   "metadata": {
    "ExecuteTime": {
     "end_time": "2020-12-16T17:26:04.046282Z",
     "start_time": "2020-12-16T17:26:04.030654Z"
    }
   },
   "outputs": [],
   "source": [
    "if not os.path.exists(\"stem_soup\"):\n",
    "    os.makedirs(\"stem_soup\")"
   ]
  },
  {
   "cell_type": "code",
   "execution_count": 8,
   "metadata": {
    "ExecuteTime": {
     "end_time": "2020-12-16T17:29:18.081519Z",
     "start_time": "2020-12-16T17:26:04.046282Z"
    }
   },
   "outputs": [
    {
     "data": {
      "application/vnd.jupyter.widget-view+json": {
       "model_id": "17e446d7561442cea79b81b27addb4d4",
       "version_major": 2,
       "version_minor": 0
      },
      "text/plain": [
       "HBox(children=(FloatProgress(value=0.0, max=12500.0), HTML(value='')))"
      ]
     },
     "metadata": {},
     "output_type": "display_data"
    },
    {
     "name": "stdout",
     "output_type": "stream",
     "text": [
      "\n"
     ]
    },
    {
     "data": {
      "application/vnd.jupyter.widget-view+json": {
       "model_id": "c598723a45244bc397f674288e35b38f",
       "version_major": 2,
       "version_minor": 0
      },
      "text/plain": [
       "HBox(children=(FloatProgress(value=0.0, max=12500.0), HTML(value='')))"
      ]
     },
     "metadata": {},
     "output_type": "display_data"
    },
    {
     "name": "stdout",
     "output_type": "stream",
     "text": [
      "\n"
     ]
    },
    {
     "data": {
      "application/vnd.jupyter.widget-view+json": {
       "model_id": "f892fb409c3c4a80b996016f6b71c9d3",
       "version_major": 2,
       "version_minor": 0
      },
      "text/plain": [
       "HBox(children=(FloatProgress(value=0.0, max=12500.0), HTML(value='')))"
      ]
     },
     "metadata": {},
     "output_type": "display_data"
    },
    {
     "name": "stdout",
     "output_type": "stream",
     "text": [
      "\n"
     ]
    },
    {
     "data": {
      "application/vnd.jupyter.widget-view+json": {
       "model_id": "27632c0656e34d14a64d60a7d240ac89",
       "version_major": 2,
       "version_minor": 0
      },
      "text/plain": [
       "HBox(children=(FloatProgress(value=0.0, max=12500.0), HTML(value='')))"
      ]
     },
     "metadata": {},
     "output_type": "display_data"
    },
    {
     "name": "stdout",
     "output_type": "stream",
     "text": [
      "\n"
     ]
    }
   ],
   "source": [
    "# Read in all files from test and train 50k in total. Remove all symbols except the \" ' \", use lemmatization.\n",
    "\n",
    "sents = [\"pos\", \"neg\"]\n",
    "folders = [train, test]\n",
    "\n",
    "for folder in folders:\n",
    "    for sent in sents:\n",
    "        for file in tqdm(os.listdir(folder + sent)):\n",
    "            with open(folder + sent + '/' + file, 'r', encoding=\"utf-8\") as f:\n",
    "                txt = f.readlines()\n",
    "                txt = ''.join(txt).lower()\n",
    "                txt = ' '.join(re.findall(\"[a-zA-Z\\s\\']+\", txt))\n",
    "                #txt = ' '.join([ stemmer.stem(w) for w in txt.split() if not w in stopwords])\n",
    "                txt = ' '.join([\n",
    "                    lemmatizer.lemmatize(w) for w in txt.split()\n",
    "                    if not w.strip() in [\n",
    "                        'br', 's', 'ha', 'wa', 'a', 'that', 'this', 'the', 'an'\n",
    "                    ]  # need to delete \"br\" manually\n",
    "                ])\n",
    "\n",
    "            with open(\n",
    "                    \"stem_soup\\\\\" +\n",
    "                    file.replace(\".txt\", \"_\" + sent + f'_{len(txt)}.txt'\n",
    "                                 ),  # need len, because files overlap in names\n",
    "                    'w',\n",
    "                    encoding=\"utf-8\") as f:\n",
    "                f.write(txt)"
   ]
  },
  {
   "cell_type": "code",
   "execution_count": 9,
   "metadata": {
    "ExecuteTime": {
     "end_time": "2020-12-16T17:29:18.097021Z",
     "start_time": "2020-12-16T17:29:18.081519Z"
    }
   },
   "outputs": [],
   "source": [
    "def get_gram(input_list, n):\n",
    "    '''\n",
    "    this function return all ngrams in a given sentence\n",
    "    '''\n",
    "    return [''.join(t) for t in zip(*[input_list[i:] for i in range(n)])]"
   ]
  },
  {
   "cell_type": "code",
   "execution_count": 10,
   "metadata": {
    "ExecuteTime": {
     "end_time": "2020-12-16T17:29:24.499920Z",
     "start_time": "2020-12-16T17:29:18.099071Z"
    }
   },
   "outputs": [
    {
     "data": {
      "application/vnd.jupyter.widget-view+json": {
       "model_id": "340ce1f8e5f64251986f89eb3031c3b8",
       "version_major": 2,
       "version_minor": 0
      },
      "text/plain": [
       "HBox(children=(FloatProgress(value=0.0, max=49997.0), HTML(value='')))"
      ]
     },
     "metadata": {},
     "output_type": "display_data"
    },
    {
     "name": "stdout",
     "output_type": "stream",
     "text": [
      "\n"
     ]
    }
   ],
   "source": [
    "scores, labels, lengths = [], [], []\n",
    "\n",
    "for name in tqdm(os.listdir(\"stem_soup\\\\\")):\n",
    "    scores.append(int(name.split(\"_\")[1]))\n",
    "    labels.append(name.split(\"_\")[2])\n",
    "    with open(\"stem_soup\\\\\" + name, encoding=\"utf-8\") as f:\n",
    "        txt = f.read()\n",
    "        lengths.append(len(txt.split(' ')))"
   ]
  },
  {
   "cell_type": "code",
   "execution_count": 11,
   "metadata": {
    "ExecuteTime": {
     "end_time": "2020-12-16T17:29:29.944334Z",
     "start_time": "2020-12-16T17:29:24.499920Z"
    }
   },
   "outputs": [
    {
     "data": {
      "image/png": "[encoded data removed]",
      "text/plain": [
       "<Figure size 432x288 with 1 Axes>"
      ]
     },
     "metadata": {},
     "output_type": "display_data"
    }
   ],
   "source": [
    "# let's see how classes are distributed\n",
    "\n",
    "sns.scatterplot(x=scores + np.random.uniform(high=0.8, size=len(scores)),\n",
    "                y=lengths + np.random.uniform(high=0.8, size=len(scores)),\n",
    "                hue=labels)\n",
    "\n",
    "plt.savefig(\"classes.png\", dpi=300)"
   ]
  },
  {
   "cell_type": "code",
   "execution_count": 12,
   "metadata": {
    "ExecuteTime": {
     "end_time": "2020-12-16T17:29:58.552081Z",
     "start_time": "2020-12-16T17:29:29.944334Z"
    }
   },
   "outputs": [
    {
     "data": {
      "application/vnd.jupyter.widget-view+json": {
       "model_id": "9f56b2d846e444568c029f82cd1b740f",
       "version_major": 2,
       "version_minor": 0
      },
      "text/plain": [
       "HBox(children=(FloatProgress(value=0.0, max=49997.0), HTML(value='')))"
      ]
     },
     "metadata": {},
     "output_type": "display_data"
    },
    {
     "name": "stdout",
     "output_type": "stream",
     "text": [
      "\n"
     ]
    }
   ],
   "source": [
    "# Let's predict the sentiment with only 3-grams ?\n",
    "\n",
    "\n",
    "def default():\n",
    "    return 1\n",
    "\n",
    "\n",
    "pos_trigramms = defaultdict(default)\n",
    "neg_trigramms = defaultdict(default)\n",
    "\n",
    "for name in tqdm(os.listdir(\"stem_soup\\\\\")):\n",
    "    with open(\"stem_soup\\\\\" + name, encoding=\"utf-8\") as f:\n",
    "        txt = f.read()\n",
    "        grams = get_gram(list(txt.replace(\" \", '').replace(\"\\n\", '')), 3)\n",
    "        if \"pos\" in name:\n",
    "            for g in grams:\n",
    "                pos_trigramms[g] += 1\n",
    "        else:\n",
    "            for g in grams:\n",
    "                neg_trigramms[g] += 1\n",
    "\n",
    "pos = sorted(pos_trigramms, key=pos_trigramms.get, reverse=True)[:400]\n",
    "neg = sorted(neg_trigramms, key=neg_trigramms.get, reverse=True)[:400]"
   ]
  },
  {
   "cell_type": "code",
   "execution_count": 13,
   "metadata": {
    "ExecuteTime": {
     "end_time": "2020-12-16T17:30:33.002096Z",
     "start_time": "2020-12-16T17:29:58.553092Z"
    }
   },
   "outputs": [
    {
     "data": {
      "application/vnd.jupyter.widget-view+json": {
       "model_id": "a3be19726bc94f14a3e73f0c7cf7520a",
       "version_major": 2,
       "version_minor": 0
      },
      "text/plain": [
       "HBox(children=(FloatProgress(value=0.0, max=5000.0), HTML(value='')))"
      ]
     },
     "metadata": {},
     "output_type": "display_data"
    },
    {
     "name": "stdout",
     "output_type": "stream",
     "text": [
      "\n"
     ]
    }
   ],
   "source": [
    "from collections import Counter\n",
    "\n",
    "pred = []\n",
    "\n",
    "for name in tqdm(os.listdir(\"stem_soup\\\\\")[:5000]):\n",
    "    with open(\"stem_soup\\\\\" + name, encoding=\"utf-8\") as f:\n",
    "        txt = f.read()\n",
    "        grams = get_gram(list(txt.replace(\" \", '').replace(\"\\n\", '')), 3)\n",
    "        C = Counter(grams)\n",
    "        sp = sum([C[p] if p in grams else 0 for k, p in enumerate(pos)])\n",
    "        sn = sum([C[p] if p in grams else 0 for k, p in enumerate(neg)])\n",
    "\n",
    "        if sp > sn:\n",
    "            pred.append(\"pos\")\n",
    "        else:\n",
    "            pred.append('neg')"
   ]
  },
  {
   "cell_type": "code",
   "execution_count": 14,
   "metadata": {
    "ExecuteTime": {
     "end_time": "2020-12-16T17:30:33.017726Z",
     "start_time": "2020-12-16T17:30:33.002096Z"
    }
   },
   "outputs": [
    {
     "data": {
      "text/plain": [
       "0.6838"
      ]
     },
     "execution_count": 14,
     "metadata": {},
     "output_type": "execute_result"
    }
   ],
   "source": [
    "# Baseline on 3-gramms\n",
    "np.mean(np.array(labels[:5000]) == np.array(pred))"
   ]
  },
  {
   "cell_type": "markdown",
   "metadata": {
    "ExecuteTime": {
     "end_time": "2020-12-13T12:02:31.293234Z",
     "start_time": "2020-12-13T12:02:31.029221Z"
    }
   },
   "source": [
    "#### Conclusions\n",
    "There is only one task, not two. Since positive comments, are those whose rating is higher than 6*.\n",
    "\n",
    "It is easy to get an almost random accuracy of 67.\n",
    "\n",
    "*There are no 5 and 6 rated comments, they are neutral.\n",
    "\n",
    "*Everything as indicated in the description to the dataset"
   ]
  },
  {
   "cell_type": "code",
   "execution_count": 15,
   "metadata": {
    "ExecuteTime": {
     "end_time": "2020-12-16T17:30:33.288479Z",
     "start_time": "2020-12-16T17:30:33.017726Z"
    }
   },
   "outputs": [
    {
     "data": {
      "image/png": "[encoded data removed]",
      "text/plain": [
       "<Figure size 432x288 with 1 Axes>"
      ]
     },
     "metadata": {},
     "output_type": "display_data"
    }
   ],
   "source": [
    "# scores are distributed as following :\n",
    "sc = Counter(scores)\n",
    "plt.bar(sc.keys(), sc.values())"
   ]
  },
  {
   "cell_type": "code",
   "execution_count": 16,
   "metadata": {
    "ExecuteTime": {
     "end_time": "2020-12-16T17:30:33.456463Z",
     "start_time": "2020-12-16T17:30:33.288479Z"
    }
   },
   "outputs": [],
   "source": [
    "trainNames, validNames, trainLabels, _ = train_test_split(os.listdir(\"stem_soup\\\\\"),\n",
    "                                                          labels,\n",
    "                                                          test_size=0.1,\n",
    "                                                          stratify=labels,\n",
    "                                                          random_state=7)\n",
    "\n",
    "trainNames, testNames, trainLabels, _ = train_test_split(trainNames,\n",
    "                                                         trainLabels,\n",
    "                                                         test_size=0.1,\n",
    "                                                         stratify=trainLabels,\n",
    "                                                         random_state=7)"
   ]
  },
  {
   "cell_type": "code",
   "execution_count": 17,
   "metadata": {
    "ExecuteTime": {
     "end_time": "2020-12-16T17:30:33.472094Z",
     "start_time": "2020-12-16T17:30:33.456463Z"
    }
   },
   "outputs": [],
   "source": [
    "del lengths, scores"
   ]
  },
  {
   "cell_type": "code",
   "execution_count": 18,
   "metadata": {
    "ExecuteTime": {
     "end_time": "2020-12-16T17:30:33.487725Z",
     "start_time": "2020-12-16T17:30:33.472094Z"
    }
   },
   "outputs": [
    {
     "data": {
      "text/plain": [
       "(40497, 4500, 5000)"
      ]
     },
     "execution_count": 18,
     "metadata": {},
     "output_type": "execute_result"
    }
   ],
   "source": [
    "len(trainNames), len(testNames), len(validNames)"
   ]
  },
  {
   "cell_type": "code",
   "execution_count": 19,
   "metadata": {
    "ExecuteTime": {
     "end_time": "2020-12-16T17:30:33.518986Z",
     "start_time": "2020-12-16T17:30:33.487725Z"
    }
   },
   "outputs": [],
   "source": [
    "# save test, valid, train names\n",
    "with open('test.names.txt', 'w', encoding=\"utf-8\") as f:\n",
    "    f.write('\\n'.join(testNames))\n",
    "\n",
    "with open('train.names.txt', 'w', encoding=\"utf-8\") as f:\n",
    "    f.write('\\n'.join(trainNames))\n",
    "\n",
    "with open('valid.names.txt', 'w', encoding=\"utf-8\") as f:\n",
    "    f.write('\\n'.join(validNames))"
   ]
  },
  {
   "cell_type": "code",
   "execution_count": 20,
   "metadata": {
    "ExecuteTime": {
     "end_time": "2020-12-16T17:30:33.722059Z",
     "start_time": "2020-12-16T17:30:33.518986Z"
    }
   },
   "outputs": [
    {
     "data": {
      "text/plain": [
       "5367"
      ]
     },
     "execution_count": 20,
     "metadata": {},
     "output_type": "execute_result"
    }
   ],
   "source": [
    "gc.collect()"
   ]
  },
  {
   "cell_type": "code",
   "execution_count": 21,
   "metadata": {
    "ExecuteTime": {
     "end_time": "2020-12-16T17:30:38.564295Z",
     "start_time": "2020-12-16T17:30:33.722059Z"
    }
   },
   "outputs": [
    {
     "data": {
      "application/vnd.jupyter.widget-view+json": {
       "model_id": "bdd2af78166c4fac958de71c93387e22",
       "version_major": 2,
       "version_minor": 0
      },
      "text/plain": [
       "HBox(children=(FloatProgress(value=1.0, bar_style='info', max=1.0), HTML(value='')))"
      ]
     },
     "metadata": {},
     "output_type": "display_data"
    },
    {
     "name": "stdout",
     "output_type": "stream",
     "text": [
      "\n"
     ]
    }
   ],
   "source": [
    "TEXTS = []\n",
    "max_words = 40000\n",
    "for k, file in tqdm(enumerate(trainNames)):\n",
    "    with open(\"stem_soup\\\\\" + file, 'r', encoding=\"utf-8\") as f:\n",
    "        txt = ' '.join(f.readlines())\n",
    "        TEXTS.append(txt)"
   ]
  },
  {
   "cell_type": "code",
   "execution_count": 22,
   "metadata": {
    "ExecuteTime": {
     "end_time": "2020-12-16T17:31:59.817449Z",
     "start_time": "2020-12-16T17:30:38.564295Z"
    }
   },
   "outputs": [
    {
     "name": "stdout",
     "output_type": "stream",
     "text": [
      "spoiler one of worst film i've seen since last year village insult to anyone of any intelligence at all poorly written and astonishingly contrived nobody especially in los angeles talk way these character do no subtly at all if point of film is to say we all have little bit of bigotry in u he doe horrible job of stating obvious not only wa his point clearly base but every character in film wa amazingly stupid car jacking scene almost made me walk out along with rescue and oh let not forget white off duty rookie cop picking up hitchhiking black thug and i could go on and on awful just awful\n"
     ]
    }
   ],
   "source": [
    "# let's mix ngrams on letters with 1-grams on words for very light-weighted model\n",
    "\n",
    "# 1-grams on words\n",
    "tokenizer2 = TfidfVectorizer(ngram_range=(1,1),\n",
    "                             analyzer='word',\n",
    "                             max_features=max_words,\n",
    "                             #min_df=0.05,\n",
    "                             #max_df=1.0,\n",
    "                             stop_words=None,\n",
    "                             token_pattern='[a-zA-Z$&+,\\':;=?@#|<>.^*()%!-]+') # wont to keep \" ' \" in \"doesn't\"\n",
    "\n",
    "# ngrams on letters\n",
    "tokenizer1 = TfidfVectorizer(ngram_range=(2, 4),\n",
    "                             analyzer='char_wb',\n",
    "                             max_features=max_words,\n",
    "                             #min_df=0.08,\n",
    "                             stop_words=None)\n",
    "\n",
    "tokenizer1 = tokenizer1.fit(TEXTS, np.array(trainLabels) == 'pos')\n",
    "joblib.dump(tokenizer1, \"tokenizer1.vect\")\n",
    "tokenizer2 = tokenizer2.fit(TEXTS, np.array(trainLabels) == 'pos')\n",
    "joblib.dump(tokenizer2, \"tokenizer2.vect\")\n",
    "\n",
    "print(TEXTS[14])"
   ]
  },
  {
   "cell_type": "code",
   "execution_count": 23,
   "metadata": {
    "ExecuteTime": {
     "end_time": "2020-12-16T17:31:59.837869Z",
     "start_time": "2020-12-16T17:31:59.819486Z"
    }
   },
   "outputs": [],
   "source": [
    "del TEXTS"
   ]
  },
  {
   "cell_type": "code",
   "execution_count": 24,
   "metadata": {
    "ExecuteTime": {
     "end_time": "2020-12-16T17:31:59.931652Z",
     "start_time": "2020-12-16T17:31:59.837869Z"
    }
   },
   "outputs": [
    {
     "data": {
      "text/plain": [
       "[\"'\",\n",
       " \"''\",\n",
       " \"''horror''\",\n",
       " \"''i\",\n",
       " \"''oh\",\n",
       " \"''the\",\n",
       " \"'a\",\n",
       " \"'a'\",\n",
       " \"'acrobatty\",\n",
       " \"'act'\",\n",
       " \"'acting'\",\n",
       " \"'action\",\n",
       " \"'action'\",\n",
       " \"'actor'\",\n",
       " \"'actors'\",\n",
       " \"'adult'\",\n",
       " \"'after\",\n",
       " \"'airplane\",\n",
       " \"'airplane'\",\n",
       " \"'alan\",\n",
       " \"'albert\",\n",
       " \"'alice'\",\n",
       " \"'alien'\",\n",
       " \"'all\",\n",
       " \"'amadeus'\",\n",
       " \"'american\",\n",
       " \"'an\",\n",
       " \"'and\",\n",
       " \"'animatronics'\",\n",
       " \"'anna\",\n",
       " \"'another\",\n",
       " \"'anti\",\n",
       " \"'antz'\",\n",
       " \"'apocalypse\",\n",
       " \"'are\",\n",
       " \"'art\",\n",
       " \"'art'\",\n",
       " \"'arthur'\",\n",
       " \"'artsy'\",\n",
       " \"'as\",\n",
       " \"'at\",\n",
       " \"'attack\",\n",
       " \"'aunt\",\n",
       " \"'ave\",\n",
       " \"'avna'\",\n",
       " \"'awful'\",\n",
       " \"'b'\",\n",
       " \"'babe'\",\n",
       " \"'baby\",\n",
       " \"'baby'\",\n",
       " \"'back\",\n",
       " \"'bad\",\n",
       " \"'bad'\",\n",
       " \"'barfly'\",\n",
       " \"'batman\",\n",
       " \"'batman'\",\n",
       " \"'be\",\n",
       " \"'beauty\",\n",
       " \"'beep\",\n",
       " \"'being\",\n",
       " \"'best\",\n",
       " \"'big\",\n",
       " \"'big'\",\n",
       " \"'black\",\n",
       " \"'blade\",\n",
       " \"'blood\",\n",
       " \"'bloody\",\n",
       " \"'blue\",\n",
       " \"'boogie\",\n",
       " \"'bout\",\n",
       " \"'boy\",\n",
       " \"'but\",\n",
       " \"'camilla'\",\n",
       " \"'can\",\n",
       " \"'captain\",\n",
       " \"'casablanca'\",\n",
       " \"'cause\",\n",
       " \"'changi'\",\n",
       " \"'che\",\n",
       " \"'chick\",\n",
       " \"'christmas\",\n",
       " \"'citizen\",\n",
       " \"'city\",\n",
       " \"'civilisation'\",\n",
       " \"'class\",\n",
       " \"'classic\",\n",
       " \"'classic'\",\n",
       " \"'clean'\",\n",
       " \"'clerks'\",\n",
       " \"'climax'\",\n",
       " \"'columbo'\",\n",
       " \"'come\",\n",
       " \"'comedies'\",\n",
       " \"'comedy'\",\n",
       " \"'comic\",\n",
       " \"'coming\",\n",
       " \"'complete'\",\n",
       " \"'congorilla'\",\n",
       " \"'controversial'\",\n",
       " \"'cool\",\n",
       " \"'cool'\",\n",
       " \"'cos\",\n",
       " \"'cover\",\n",
       " \"'crazy'\",\n",
       " \"'creature\",\n",
       " \"'creature'\",\n",
       " \"'creep'\",\n",
       " \"'cut'\",\n",
       " \"'cute'\",\n",
       " \"'cuz\",\n",
       " \"'d\",\n",
       " \"'dad's\",\n",
       " \"'dark\",\n",
       " \"'dark'\",\n",
       " \"'darkness\",\n",
       " \"'darr'\",\n",
       " \"'david\",\n",
       " \"'de\",\n",
       " \"'dead\",\n",
       " \"'dead'\",\n",
       " \"'death\",\n",
       " \"'death'\",\n",
       " \"'deep\",\n",
       " \"'deliverance'\",\n",
       " \"'demons'\",\n",
       " \"'depressing'\",\n",
       " \"'devil'\",\n",
       " \"'die\",\n",
       " \"'different'\",\n",
       " \"'dillinger'\",\n",
       " \"'dirty\",\n",
       " \"'do\",\n",
       " \"'doctor\",\n",
       " \"'doctor'\",\n",
       " \"'documentary'\",\n",
       " \"'doghi'\",\n",
       " \"'doing\",\n",
       " \"'don\",\n",
       " \"'don't\",\n",
       " \"'dough\",\n",
       " \"'dr\",\n",
       " \"'drama'\",\n",
       " \"'dream\",\n",
       " \"'driving\",\n",
       " \"'earth'\",\n",
       " \"'ed\",\n",
       " \"'el\",\n",
       " \"'em\",\n",
       " \"'end\",\n",
       " \"'er\",\n",
       " \"'ernest\",\n",
       " \"'eternal\",\n",
       " \"'every\",\n",
       " \"'everyman'\",\n",
       " \"'everything\",\n",
       " \"'evil\",\n",
       " \"'evil'\",\n",
       " \"'extreme\",\n",
       " \"'extreme'\",\n",
       " \"'eye\",\n",
       " \"'f'\",\n",
       " \"'fackin'\",\n",
       " \"'factotum'\",\n",
       " \"'fame'\",\n",
       " \"'family\",\n",
       " \"'fat\",\n",
       " \"'father\",\n",
       " \"'fatty'\",\n",
       " \"'feel\",\n",
       " \"'felony'\",\n",
       " \"'film\",\n",
       " \"'film'\",\n",
       " \"'final\",\n",
       " \"'finding\",\n",
       " \"'fire'\",\n",
       " \"'first\",\n",
       " \"'five\",\n",
       " \"'follow\",\n",
       " \"'for\",\n",
       " \"'forbidden\",\n",
       " \"'forbidden'\",\n",
       " \"'free\",\n",
       " \"'freedom'\",\n",
       " \"'frenzy'\",\n",
       " \"'friday\",\n",
       " \"'friends'\",\n",
       " \"'from\",\n",
       " \"'full\",\n",
       " \"'fun'\",\n",
       " \"'funny'\",\n",
       " \"'futuristic'\",\n",
       " \"'game\",\n",
       " \"'general'\",\n",
       " \"'get\",\n",
       " \"'get'\",\n",
       " \"'getting\",\n",
       " \"'ghost'\",\n",
       " \"'ghoulies'\",\n",
       " \"'gilda'\",\n",
       " \"'girlfriend'\",\n",
       " \"'go\",\n",
       " \"'gobble\",\n",
       " \"'god'\",\n",
       " \"'going\",\n",
       " \"'golden\",\n",
       " \"'gone\",\n",
       " \"'good\",\n",
       " \"'good'\",\n",
       " \"'goodfellas'\",\n",
       " \"'goodnight\",\n",
       " \"'grand\",\n",
       " \"'great\",\n",
       " \"'great'\",\n",
       " \"'green\",\n",
       " \"'gung\",\n",
       " \"'hail\",\n",
       " \"'half\",\n",
       " \"'halloween\",\n",
       " \"'halloween'\",\n",
       " \"'happy\",\n",
       " \"'hare\",\n",
       " \"'harry'\",\n",
       " \"'have\",\n",
       " \"'he\",\n",
       " \"'head'\",\n",
       " \"'heart\",\n",
       " \"'henry\",\n",
       " \"'hero'\",\n",
       " \"'heroes'\",\n",
       " \"'heroine'\",\n",
       " \"'hey\",\n",
       " \"'high\",\n",
       " \"'higher\",\n",
       " \"'hilarious'\",\n",
       " \"'hills'\",\n",
       " \"'his'\",\n",
       " \"'hitch'\",\n",
       " \"'hollywood\",\n",
       " \"'hollywood'\",\n",
       " \"'home\",\n",
       " \"'home'\",\n",
       " \"'horror\",\n",
       " \"'horror'\",\n",
       " \"'hot\",\n",
       " \"'house\",\n",
       " \"'how\",\n",
       " \"'i\",\n",
       " \"'i'll\",\n",
       " \"'i'm\",\n",
       " \"'i've\",\n",
       " \"'ice\",\n",
       " \"'ice'\",\n",
       " \"'if\",\n",
       " \"'in\",\n",
       " \"'inside\",\n",
       " \"'interesting'\",\n",
       " \"'is\",\n",
       " \"'it\",\n",
       " \"'it'\",\n",
       " \"'it's\",\n",
       " \"'its\",\n",
       " \"'jane\",\n",
       " \"'joe'\",\n",
       " \"'jokes'\",\n",
       " \"'just\",\n",
       " \"'k\",\n",
       " \"'kalifornia'\",\n",
       " \"'kill\",\n",
       " \"'killer\",\n",
       " \"'killer'\",\n",
       " \"'king\",\n",
       " \"'la\",\n",
       " \"'lady\",\n",
       " \"'land\",\n",
       " \"'last\",\n",
       " \"'lawrence\",\n",
       " \"'les\",\n",
       " \"'lesbian\",\n",
       " \"'let\",\n",
       " \"'let's\",\n",
       " \"'life\",\n",
       " \"'life'\",\n",
       " \"'lifeforce'\",\n",
       " \"'like\",\n",
       " \"'little\",\n",
       " \"'little'\",\n",
       " \"'lock\",\n",
       " \"'loggerheads'\",\n",
       " \"'london\",\n",
       " \"'long\",\n",
       " \"'look\",\n",
       " \"'look'\",\n",
       " \"'lost\",\n",
       " \"'lost'\",\n",
       " \"'love\",\n",
       " \"'love'\",\n",
       " \"'low\",\n",
       " \"'m\",\n",
       " \"'m'\",\n",
       " \"'mad\",\n",
       " \"'made\",\n",
       " \"'mainstream'\",\n",
       " \"'major\",\n",
       " \"'make\",\n",
       " \"'making\",\n",
       " \"'man\",\n",
       " \"'mar\",\n",
       " \"'mary\",\n",
       " \"'masterpiece'\",\n",
       " \"'matrix'\",\n",
       " \"'me\",\n",
       " \"'meet\",\n",
       " \"'memento'\",\n",
       " \"'men\",\n",
       " \"'midnight\",\n",
       " \"'mind\",\n",
       " \"'miss\",\n",
       " \"'modern'\",\n",
       " \"'monster'\",\n",
       " \"'moon\",\n",
       " \"'movie\",\n",
       " \"'movie'\",\n",
       " \"'movies'\",\n",
       " \"'mr\",\n",
       " \"'mud\",\n",
       " \"'mulholland\",\n",
       " \"'murder\",\n",
       " \"'must\",\n",
       " \"'my\",\n",
       " \"'n\",\n",
       " \"'n'\",\n",
       " \"'naked\",\n",
       " \"'nam\",\n",
       " \"'national\",\n",
       " \"'natural\",\n",
       " \"'never\",\n",
       " \"'new\",\n",
       " \"'new'\",\n",
       " \"'night\",\n",
       " \"'no\",\n",
       " \"'normal\",\n",
       " \"'normal'\",\n",
       " \"'northfork'\",\n",
       " \"'not\",\n",
       " \"'nuff\",\n",
       " \"'nurse\",\n",
       " \"'o\",\n",
       " \"'o'\",\n",
       " \"'o'neill'\",\n",
       " \"'odor\",\n",
       " \"'off\",\n",
       " \"'official'\",\n",
       " \"'oh\",\n",
       " \"'ok'\",\n",
       " \"'ol\",\n",
       " \"'old\",\n",
       " \"'old'\",\n",
       " \"'on\",\n",
       " \"'one\",\n",
       " \"'only'\",\n",
       " \"'opening\",\n",
       " \"'oppenheimer'\",\n",
       " \"'ordinary\",\n",
       " \"'ordinary'\",\n",
       " \"'original'\",\n",
       " \"'other'\",\n",
       " \"'our\",\n",
       " \"'out\",\n",
       " \"'over\",\n",
       " \"'panic\",\n",
       " \"'paris\",\n",
       " \"'paris'\",\n",
       " \"'party\",\n",
       " \"'people\",\n",
       " \"'perfect\",\n",
       " \"'phantom\",\n",
       " \"'pickup\",\n",
       " \"'plan\",\n",
       " \"'planet\",\n",
       " \"'plot'\",\n",
       " \"'police\",\n",
       " \"'poltergeist'\",\n",
       " \"'post\",\n",
       " \"'pre\",\n",
       " \"'presque\",\n",
       " \"'pretty\",\n",
       " \"'private\",\n",
       " \"'prometheus'\",\n",
       " \"'psycho'\",\n",
       " \"'puckoon'\",\n",
       " \"'r\",\n",
       " \"'r'\",\n",
       " \"'radio'\",\n",
       " \"'rafter\",\n",
       " \"'raise\",\n",
       " \"'ratso'\",\n",
       " \"'re\",\n",
       " \"'read\",\n",
       " \"'real\",\n",
       " \"'real'\",\n",
       " \"'realistic'\",\n",
       " \"'reality\",\n",
       " \"'reality'\",\n",
       " \"'really'\",\n",
       " \"'red\",\n",
       " \"'return\",\n",
       " \"'rip\",\n",
       " \"'road\",\n",
       " \"'rock\",\n",
       " \"'romance'\",\n",
       " \"'round\",\n",
       " \"'rumours'\",\n",
       " \"'s\",\n",
       " \"'s'\",\n",
       " \"'saving\",\n",
       " \"'saw'\",\n",
       " \"'scarlett'\",\n",
       " \"'scary\",\n",
       " \"'scary'\",\n",
       " \"'schindler's\",\n",
       " \"'scoop'\",\n",
       " \"'scream\",\n",
       " \"'scream'\",\n",
       " \"'secret\",\n",
       " \"'see\",\n",
       " \"'serious'\",\n",
       " \"'set\",\n",
       " \"'sex\",\n",
       " \"'she\",\n",
       " \"'shock'\",\n",
       " \"'show'\",\n",
       " \"'shut\",\n",
       " \"'sick'\",\n",
       " \"'silent\",\n",
       " \"'sixteen\",\n",
       " \"'smart\",\n",
       " \"'snafuperman'\",\n",
       " \"'snakes\",\n",
       " \"'so\",\n",
       " \"'some\",\n",
       " \"'something\",\n",
       " \"'something'\",\n",
       " \"'son\",\n",
       " \"'space\",\n",
       " \"'speak\",\n",
       " \"'special\",\n",
       " \"'special'\",\n",
       " \"'spirited\",\n",
       " \"'spoorloos'\",\n",
       " \"'spy\",\n",
       " \"'st\",\n",
       " \"'star\",\n",
       " \"'star'\",\n",
       " \"'still\",\n",
       " \"'stop\",\n",
       " \"'story'\",\n",
       " \"'straight\",\n",
       " \"'street\",\n",
       " \"'style'\",\n",
       " \"'t\",\n",
       " \"'take\",\n",
       " \"'taking\",\n",
       " \"'terry\",\n",
       " \"'thank\",\n",
       " \"'that\",\n",
       " \"'that's\",\n",
       " \"'the\",\n",
       " \"'there\",\n",
       " \"'they\",\n",
       " \"'they'\",\n",
       " \"'things\",\n",
       " \"'this\",\n",
       " \"'thriller'\",\n",
       " \"'thunderbirds'\",\n",
       " \"'til\",\n",
       " \"'till\",\n",
       " \"'time\",\n",
       " \"'titanic'\",\n",
       " \"'tn'\",\n",
       " \"'to\",\n",
       " \"'tommy\",\n",
       " \"'too\",\n",
       " \"'tooth\",\n",
       " \"'top\",\n",
       " \"'traffik'\",\n",
       " \"'trainspotting'\",\n",
       " \"'trivia'\",\n",
       " \"'true\",\n",
       " \"'true'\",\n",
       " \"'tulip'\",\n",
       " \"'tv\",\n",
       " \"'tv'\",\n",
       " \"'tweety's\",\n",
       " \"'twelve\",\n",
       " \"'twin\",\n",
       " \"'twist'\",\n",
       " \"'twists'\",\n",
       " \"'two\",\n",
       " \"'typical\",\n",
       " \"'typical'\",\n",
       " \"'u'\",\n",
       " \"'un\",\n",
       " \"'under\",\n",
       " \"'underground'\",\n",
       " \"'underworld'\",\n",
       " \"'union\",\n",
       " \"'unrated'\",\n",
       " \"'uns\",\n",
       " \"'up\",\n",
       " \"'vanishing\",\n",
       " \"'vertigo'\",\n",
       " \"'very\",\n",
       " \"'video\",\n",
       " \"'visitor\",\n",
       " \"'volcano'\",\n",
       " \"'wacky'\",\n",
       " \"'wagon\",\n",
       " \"'waqt'\",\n",
       " \"'war\",\n",
       " \"'watching\",\n",
       " \"'we\",\n",
       " \"'well\",\n",
       " \"'west\",\n",
       " \"'what\",\n",
       " \"'what's\",\n",
       " \"'when\",\n",
       " \"'where\",\n",
       " \"'which\",\n",
       " \"'white\",\n",
       " \"'who\",\n",
       " \"'who's\",\n",
       " \"'why\",\n",
       " \"'wild\",\n",
       " \"'will\",\n",
       " \"'wizards'\",\n",
       " \"'women\",\n",
       " \"'world\",\n",
       " \"'worst\",\n",
       " \"'wow\",\n",
       " \"'x\",\n",
       " \"'x'\",\n",
       " \"'yes\",\n",
       " \"'yes'\",\n",
       " \"'you\",\n",
       " \"'you'll\",\n",
       " \"'you've\",\n",
       " \"'young\",\n",
       " \"'zavet'\",\n",
       " \"'zombie\",\n",
       " \"'zombie'\",\n",
       " \"'zombies'\",\n",
       " 'a',\n",
       " \"a'la\",\n",
       " \"a's\",\n",
       " 'aa',\n",
       " 'aaa',\n",
       " 'aaargh',\n",
       " 'aag',\n",
       " 'aaliyah',\n",
       " \"aaliyah's\",\n",
       " 'aames',\n",
       " 'aamir',\n",
       " 'aapke',\n",
       " 'aardman',\n",
       " \"aardman's\",\n",
       " 'aardvark',\n",
       " 'aargh',\n",
       " 'aaron',\n",
       " \"aaron's\",\n",
       " 'aatish',\n",
       " 'aawip',\n",
       " 'ab',\n",
       " 'aback',\n",
       " 'abandon',\n",
       " 'abandoned',\n",
       " 'abandoning',\n",
       " 'abandonment',\n",
       " 'abba',\n",
       " 'abbas',\n",
       " 'abbey',\n",
       " \"abbey's\",\n",
       " 'abbie',\n",
       " 'abbot',\n",
       " 'abbott',\n",
       " \"abbott's\",\n",
       " 'abbreviated',\n",
       " 'abby',\n",
       " \"abby's\",\n",
       " 'abc',\n",
       " \"abc's\",\n",
       " 'abdalla',\n",
       " 'abdomen',\n",
       " 'abduct',\n",
       " 'abducted',\n",
       " 'abducting',\n",
       " 'abduction',\n",
       " 'abductor',\n",
       " 'abducts',\n",
       " 'abdul',\n",
       " 'abdullah',\n",
       " 'abdulrahman',\n",
       " 'abe',\n",
       " 'abel',\n",
       " 'abercrombie',\n",
       " 'aberdeen',\n",
       " 'abernethie',\n",
       " 'aberration',\n",
       " 'abetted',\n",
       " 'abhay',\n",
       " 'abhi',\n",
       " 'abhishek',\n",
       " 'abhorrence',\n",
       " 'abhorrent',\n",
       " 'abhors',\n",
       " 'abide',\n",
       " 'abiding',\n",
       " 'abigail',\n",
       " \"abigail's\",\n",
       " 'abilene',\n",
       " 'ability',\n",
       " 'abit',\n",
       " 'abject',\n",
       " 'ablaze',\n",
       " 'able',\n",
       " 'ably',\n",
       " 'abner',\n",
       " 'abnormal',\n",
       " 'abnormally',\n",
       " 'abo',\n",
       " 'aboard',\n",
       " 'abode',\n",
       " 'abolished',\n",
       " 'abolition',\n",
       " 'abominable',\n",
       " 'abominably',\n",
       " 'abomination',\n",
       " 'aboriginal',\n",
       " 'aborigine',\n",
       " 'abort',\n",
       " 'aborted',\n",
       " 'abortion',\n",
       " 'abortionist',\n",
       " 'abortive',\n",
       " 'abound',\n",
       " 'abounds',\n",
       " 'about',\n",
       " 'above',\n",
       " 'abraham',\n",
       " 'abrams',\n",
       " 'abrasive',\n",
       " 'abre',\n",
       " 'abreast',\n",
       " 'abridged',\n",
       " 'abril',\n",
       " 'abroad',\n",
       " 'abrupt',\n",
       " 'abruptly',\n",
       " 'absence',\n",
       " 'absent',\n",
       " 'absentee',\n",
       " 'absolute',\n",
       " 'absolutely',\n",
       " 'absolution',\n",
       " 'absolutley',\n",
       " 'absolutly',\n",
       " 'absolve',\n",
       " 'absorb',\n",
       " 'absorbed',\n",
       " 'absorbing',\n",
       " 'absorbs',\n",
       " 'absorption',\n",
       " 'abstinence',\n",
       " 'abstract',\n",
       " 'abstracted',\n",
       " 'abstraction',\n",
       " 'absurd',\n",
       " 'absurdism',\n",
       " 'absurdist',\n",
       " 'absurdity',\n",
       " 'absurdly',\n",
       " 'absurdness',\n",
       " 'abu',\n",
       " 'abundance',\n",
       " 'abundant',\n",
       " 'abundantly',\n",
       " 'abuse',\n",
       " 'abused',\n",
       " 'abuser',\n",
       " 'abusing',\n",
       " 'abusive',\n",
       " 'abut',\n",
       " 'abydos',\n",
       " 'abysmal',\n",
       " 'abysmally',\n",
       " 'abyss',\n",
       " 'ac',\n",
       " 'acacia',\n",
       " 'acadamy',\n",
       " 'academic',\n",
       " 'academy',\n",
       " \"academy's\",\n",
       " 'acapulco',\n",
       " 'accelerate',\n",
       " 'accelerated',\n",
       " 'accelerates',\n",
       " 'accelerating',\n",
       " 'acceleration',\n",
       " 'accelerator',\n",
       " 'accent',\n",
       " 'accented',\n",
       " 'accentuate',\n",
       " 'accentuated',\n",
       " 'accentuates',\n",
       " 'accentuating',\n",
       " 'accept',\n",
       " 'acceptable',\n",
       " 'acceptance',\n",
       " 'accepted',\n",
       " 'accepting',\n",
       " 'accepts',\n",
       " 'access',\n",
       " 'accessibility',\n",
       " 'accessible',\n",
       " 'accession',\n",
       " 'accessory',\n",
       " 'accident',\n",
       " 'accidental',\n",
       " 'accidentally',\n",
       " 'accidentially',\n",
       " 'accidently',\n",
       " 'acclaim',\n",
       " 'acclaimed',\n",
       " 'accolade',\n",
       " 'accommodate',\n",
       " 'accommodating',\n",
       " 'accommodation',\n",
       " 'accompanied',\n",
       " 'accompanies',\n",
       " 'accompaniment',\n",
       " 'accompany',\n",
       " 'accompanying',\n",
       " 'accomplice',\n",
       " 'accomplish',\n",
       " 'accomplished',\n",
       " 'accomplishes',\n",
       " 'accomplishing',\n",
       " 'accomplishment',\n",
       " 'accord',\n",
       " 'accordance',\n",
       " 'accorded',\n",
       " 'according',\n",
       " 'accordingly',\n",
       " 'accordion',\n",
       " 'accosted',\n",
       " 'account',\n",
       " 'accountability',\n",
       " 'accountable',\n",
       " 'accountant',\n",
       " 'accounted',\n",
       " 'accounting',\n",
       " 'accrued',\n",
       " 'accumulate',\n",
       " 'accumulated',\n",
       " 'accumulation',\n",
       " 'accuracy',\n",
       " 'accurate',\n",
       " 'accurately',\n",
       " 'accusation',\n",
       " 'accuse',\n",
       " 'accused',\n",
       " 'accuser',\n",
       " 'accuses',\n",
       " 'accusing',\n",
       " 'accustomed',\n",
       " 'ace',\n",
       " 'acerbic',\n",
       " 'acharya',\n",
       " 'ache',\n",
       " 'ached',\n",
       " 'achieve',\n",
       " 'achieved',\n",
       " 'achievement',\n",
       " 'achieves',\n",
       " 'achieving',\n",
       " 'achilles',\n",
       " 'aching',\n",
       " 'achingly',\n",
       " 'acid',\n",
       " 'acidic',\n",
       " 'ack',\n",
       " 'ackerman',\n",
       " 'ackland',\n",
       " 'acknowledge',\n",
       " 'acknowledged',\n",
       " 'acknowledgement',\n",
       " 'acknowledges',\n",
       " 'acknowledging',\n",
       " 'acknowledgment',\n",
       " 'ackroyd',\n",
       " \"ackroyd's\",\n",
       " 'acme',\n",
       " 'acne',\n",
       " 'acolyte',\n",
       " 'acorn',\n",
       " 'acosta',\n",
       " 'acoustic',\n",
       " 'acquaintance',\n",
       " 'acquainted',\n",
       " 'acquart',\n",
       " 'acquire',\n",
       " 'acquired',\n",
       " 'acquires',\n",
       " 'acquiring',\n",
       " 'acquisition',\n",
       " 'acquit',\n",
       " 'acquits',\n",
       " 'acquittal',\n",
       " 'acquitted',\n",
       " 'acre',\n",
       " 'acrid',\n",
       " 'acrobat',\n",
       " 'acrobatic',\n",
       " 'acrobatics',\n",
       " 'acrobatty',\n",
       " 'acromegaly',\n",
       " 'acronym',\n",
       " 'across',\n",
       " 'act',\n",
       " \"act'\",\n",
       " 'acte',\n",
       " 'acted',\n",
       " 'acting',\n",
       " \"acting'\",\n",
       " \"acting's\",\n",
       " 'action',\n",
       " 'actioneer',\n",
       " 'actioner',\n",
       " 'actioners',\n",
       " 'actionpacked',\n",
       " 'actionscenes',\n",
       " 'actium',\n",
       " 'activate',\n",
       " 'activated',\n",
       " 'activates',\n",
       " 'active',\n",
       " 'actively',\n",
       " 'activision',\n",
       " 'activism',\n",
       " 'activist',\n",
       " 'activity',\n",
       " 'actor',\n",
       " \"actor's\",\n",
       " \"actors'\",\n",
       " 'actress',\n",
       " \"actress'\",\n",
       " \"actress's\",\n",
       " \"actresses'\",\n",
       " 'actual',\n",
       " 'actuality',\n",
       " 'actually',\n",
       " \"actually'\",\n",
       " 'actualy',\n",
       " 'acumen',\n",
       " 'acute',\n",
       " 'acutely',\n",
       " 'ad',\n",
       " 'ada',\n",
       " \"ada's\",\n",
       " 'adage',\n",
       " 'adam',\n",
       " \"adam's\",\n",
       " 'adama',\n",
       " 'adamant',\n",
       " 'adamantly',\n",
       " \"adams'\",\n",
       " 'adamson',\n",
       " \"adamson's\",\n",
       " 'adapt',\n",
       " 'adaptation',\n",
       " 'adapted',\n",
       " 'adapter',\n",
       " 'adapting',\n",
       " 'adaption',\n",
       " 'adapts',\n",
       " 'add',\n",
       " 'addams',\n",
       " 'added',\n",
       " 'addendum',\n",
       " 'adder',\n",
       " 'addict',\n",
       " 'addicted',\n",
       " 'addicting',\n",
       " 'addiction',\n",
       " 'addictive',\n",
       " 'addicus',\n",
       " 'addie',\n",
       " 'adding',\n",
       " 'addison',\n",
       " 'addition',\n",
       " 'additional',\n",
       " 'additionally',\n",
       " 'addled',\n",
       " 'address',\n",
       " 'addressed',\n",
       " 'addressing',\n",
       " 'addy',\n",
       " 'ade',\n",
       " 'adebisi',\n",
       " 'adela',\n",
       " 'adelaide',\n",
       " 'adele',\n",
       " 'adeline',\n",
       " 'adelle',\n",
       " 'aden',\n",
       " 'adenoid',\n",
       " \"adentro'\",\n",
       " 'adept',\n",
       " 'adeptly',\n",
       " 'adequate',\n",
       " 'adequately',\n",
       " 'adgth',\n",
       " 'adhd',\n",
       " 'adhere',\n",
       " 'adhered',\n",
       " 'adherence',\n",
       " 'adherent',\n",
       " 'adheres',\n",
       " 'adhering',\n",
       " 'adi',\n",
       " 'adieu',\n",
       " 'aditya',\n",
       " 'adjacent',\n",
       " 'adjani',\n",
       " 'adjective',\n",
       " 'adjl',\n",
       " 'adjoining',\n",
       " 'adjust',\n",
       " 'adjusted',\n",
       " 'adjusting',\n",
       " 'adjustment',\n",
       " 'adjusts',\n",
       " 'adkins',\n",
       " 'adler',\n",
       " 'administer',\n",
       " 'administered',\n",
       " 'administration',\n",
       " 'administrator',\n",
       " 'admirable',\n",
       " 'admirably',\n",
       " 'admiral',\n",
       " 'admiration',\n",
       " 'admire',\n",
       " 'admired',\n",
       " 'admirer',\n",
       " 'admires',\n",
       " 'admiring',\n",
       " 'admission',\n",
       " 'admit',\n",
       " 'admits',\n",
       " 'admitted',\n",
       " 'admittedly',\n",
       " 'admitting',\n",
       " 'ado',\n",
       " 'adobe',\n",
       " 'adolescence',\n",
       " 'adolescent',\n",
       " \"adolescent's\",\n",
       " 'adolf',\n",
       " 'adolph',\n",
       " 'adonijah',\n",
       " 'adonis',\n",
       " 'adopt',\n",
       " 'adopted',\n",
       " 'adopting',\n",
       " 'adoption',\n",
       " 'adoptive',\n",
       " 'adopts',\n",
       " 'adorable',\n",
       " 'adorably',\n",
       " 'adoration',\n",
       " 'adore',\n",
       " 'adored',\n",
       " 'adores',\n",
       " 'adoring',\n",
       " 'adoringly',\n",
       " 'adorn',\n",
       " 'adorned',\n",
       " 'adorning',\n",
       " 'adorns',\n",
       " 'adp',\n",
       " 'adr',\n",
       " 'adrenalin',\n",
       " 'adrenaline',\n",
       " 'adrian',\n",
       " 'adriana',\n",
       " 'adrianne',\n",
       " 'adrien',\n",
       " 'adrienne',\n",
       " 'adrift',\n",
       " 'adroit',\n",
       " ...]"
      ]
     },
     "execution_count": 24,
     "metadata": {},
     "output_type": "execute_result"
    }
   ],
   "source": [
    "tokenizer2.get_feature_names()"
   ]
  },
  {
   "cell_type": "code",
   "execution_count": 25,
   "metadata": {
    "ExecuteTime": {
     "end_time": "2020-12-16T17:31:59.953800Z",
     "start_time": "2020-12-16T17:31:59.931652Z"
    }
   },
   "outputs": [],
   "source": [
    "# data generator\n",
    "\n",
    "\n",
    "def read_in(names, i, batch):\n",
    "    TEXTS = []\n",
    "    YS = np.zeros((len(names[i:i + batch]), 10))\n",
    "    for k, file in enumerate(names[i:i + batch]):\n",
    "        with open(\"stem_soup\\\\\" + file, 'r', encoding=\"utf-8\") as f:\n",
    "            txt = ' '.join(f.readlines()).split()\n",
    "            TEXTS.append(' '.join(txt))\n",
    "            YS[k] = [\n",
    "                0 if i != int(file.split('_')[1]) else 1 for i in range(1, 11)\n",
    "            ]\n",
    "    return np.array(TEXTS), YS\n",
    "\n",
    "\n",
    "def train_test_generator(data,\n",
    "                         tokenizer1,\n",
    "                         tokenizer2,\n",
    "                         batch=256,\n",
    "                         sampleSize=None):\n",
    "    n_rows = len(data)\n",
    "\n",
    "    def init():\n",
    "        return 0\n",
    "\n",
    "    i = init()\n",
    "    while True:\n",
    "\n",
    "        vals, ys = read_in(data, i, batch)\n",
    "        # print(vals[0])\n",
    "        yield np.hstack((tokenizer1.transform(vals).todense(),\n",
    "                         tokenizer2.transform(vals).todense())), ys\n",
    "        i += batch\n",
    "        if i >= n_rows:\n",
    "            i = init()"
   ]
  },
  {
   "cell_type": "code",
   "execution_count": 26,
   "metadata": {
    "ExecuteTime": {
     "end_time": "2020-12-16T17:32:00.591174Z",
     "start_time": "2020-12-16T17:31:59.953800Z"
    }
   },
   "outputs": [
    {
     "name": "stdout",
     "output_type": "stream",
     "text": [
      "(matrix([[0.        , 0.        , 0.        , ..., 0.        , 0.        ,\n",
      "         0.        ],\n",
      "        [0.        , 0.        , 0.        , ..., 0.        , 0.        ,\n",
      "         0.        ],\n",
      "        [0.        , 0.        , 0.        , ..., 0.        , 0.        ,\n",
      "         0.        ],\n",
      "        ...,\n",
      "        [0.09447448, 0.03824156, 0.        , ..., 0.        , 0.        ,\n",
      "         0.        ],\n",
      "        [0.        , 0.        , 0.        , ..., 0.        , 0.        ,\n",
      "         0.        ],\n",
      "        [0.        , 0.        , 0.        , ..., 0.        , 0.        ,\n",
      "         0.        ]]), array([[1., 0., 0., ..., 0., 0., 0.],\n",
      "       [0., 1., 0., ..., 0., 0., 0.],\n",
      "       [0., 0., 0., ..., 0., 0., 0.],\n",
      "       ...,\n",
      "       [0., 0., 1., ..., 0., 0., 0.],\n",
      "       [0., 0., 0., ..., 0., 1., 0.],\n",
      "       [0., 0., 0., ..., 0., 1., 0.]]))\n"
     ]
    },
    {
     "data": {
      "text/plain": [
       "((200, 80000), (200, 10))"
      ]
     },
     "execution_count": 26,
     "metadata": {},
     "output_type": "execute_result"
    }
   ],
   "source": [
    "# let's see into a batch\n",
    "\n",
    "trainGen = train_test_generator(trainNames,\n",
    "                                tokenizer1=tokenizer1,\n",
    "                                tokenizer2=tokenizer2,\n",
    "                                batch=200)\n",
    "for batch in trainGen:\n",
    "    print(batch)\n",
    "    break\n",
    "\n",
    "batch[0].shape, batch[1].shape"
   ]
  },
  {
   "cell_type": "code",
   "execution_count": 27,
   "metadata": {
    "ExecuteTime": {
     "end_time": "2020-12-16T17:32:00.606802Z",
     "start_time": "2020-12-16T17:32:00.591174Z"
    }
   },
   "outputs": [
    {
     "data": {
      "text/plain": [
       "[0.185, 0.05, 0.14, 0.12, 0.0, 0.0, 0.085, 0.13, 0.095, 0.195]"
      ]
     },
     "execution_count": 27,
     "metadata": {},
     "output_type": "execute_result"
    }
   ],
   "source": [
    "[np.mean(batch[1][:, i]) for i in range(10)]"
   ]
  },
  {
   "cell_type": "code",
   "execution_count": 28,
   "metadata": {
    "ExecuteTime": {
     "end_time": "2020-12-16T17:32:00.622433Z",
     "start_time": "2020-12-16T17:32:00.606802Z"
    }
   },
   "outputs": [],
   "source": [
    "P = 124\n",
    "\n",
    "trainGen = train_test_generator(trainNames,\n",
    "                                tokenizer1=tokenizer1,\n",
    "                                tokenizer2=tokenizer2,\n",
    "                                batch=P)\n",
    "\n",
    "validGen = train_test_generator(validNames,\n",
    "                                tokenizer1=tokenizer1,\n",
    "                                tokenizer2=tokenizer2,\n",
    "                                batch=P)"
   ]
  },
  {
   "cell_type": "code",
   "execution_count": 29,
   "metadata": {
    "ExecuteTime": {
     "end_time": "2020-12-16T17:32:00.791764Z",
     "start_time": "2020-12-16T17:32:00.622433Z"
    }
   },
   "outputs": [],
   "source": [
    "METRICS = [keras.metrics.CategoricalAccuracy(name=\"cat_acc\")]"
   ]
  },
  {
   "cell_type": "code",
   "execution_count": 30,
   "metadata": {
    "ExecuteTime": {
     "end_time": "2020-12-16T17:32:00.807394Z",
     "start_time": "2020-12-16T17:32:00.791764Z"
    }
   },
   "outputs": [],
   "source": [
    "# Let's use a dense layer with dropout for easy deployment on Heroku\n",
    "\n",
    "n_words = batch[0].shape[1]\n",
    "n_classes = 10\n",
    "\n",
    "\n",
    "def define_model(n_words=n_words, n_classes=n_classes):\n",
    "    model = models.Sequential()\n",
    "\n",
    "    # grams\n",
    "    model.add(layers.Dense(256, input_shape=(n_words, )))\n",
    "    model.add(layers.Activation('relu'))\n",
    "    model.add(layers.Dropout(rate=0.4))\n",
    "\n",
    "    # higer grams interactions\n",
    "    model.add(layers.Dense(64, input_shape=(n_words, )))\n",
    "    model.add(layers.Activation('relu'))\n",
    "    model.add(layers.Dropout(rate=0.4))\n",
    "\n",
    "    # output 10\n",
    "    model.add(layers.Dense(n_classes))\n",
    "    model.add(layers.Activation('sigmoid'))\n",
    "\n",
    "    optimizer = keras.optimizers.Adam()\n",
    "    model.compile(loss='categorical_crossentropy',\n",
    "                  optimizer=optimizer,\n",
    "                  metrics=METRICS)\n",
    "    return model"
   ]
  },
  {
   "cell_type": "code",
   "execution_count": 31,
   "metadata": {
    "ExecuteTime": {
     "end_time": "2020-12-16T18:15:01.531445Z",
     "start_time": "2020-12-16T17:32:00.807394Z"
    }
   },
   "outputs": [
    {
     "name": "stdout",
     "output_type": "stream",
     "text": [
      "WARNING:tensorflow:sample_weight modes were coerced from\n",
      "  ...\n",
      "    to  \n",
      "  ['...']\n",
      "WARNING:tensorflow:sample_weight modes were coerced from\n",
      "  ...\n",
      "    to  \n",
      "  ['...']\n",
      "Train for 326 steps, validate for 40 steps\n",
      "\n",
      "alpha now : 0.00012\n",
      "\n",
      "Epoch 1/100\n",
      "326/326 [==============================] - 196s 603ms/step - loss: 2.1199 - cat_acc: 0.2246 - val_loss: 2.0026 - val_cat_acc: 0.2736\n",
      "\n",
      "alpha now : 0.00012\n",
      "\n",
      "Epoch 2/100\n",
      "326/326 [==============================] - 281s 863ms/step - loss: 1.9065 - cat_acc: 0.3140 - val_loss: 1.6939 - val_cat_acc: 0.3692\n",
      "\n",
      "alpha now : 0.00012\n",
      "\n",
      "Epoch 3/100\n",
      "326/326 [==============================] - 175s 537ms/step - loss: 1.6572 - cat_acc: 0.3745 - val_loss: 1.5577 - val_cat_acc: 0.3991\n",
      "\n",
      "alpha now : 0.00012\n",
      "\n",
      "Epoch 4/100\n",
      "326/326 [==============================] - 174s 533ms/step - loss: 1.5269 - cat_acc: 0.4115 - val_loss: 1.4812 - val_cat_acc: 0.4194\n",
      "\n",
      "alpha now : 0.00012\n",
      "\n",
      "Epoch 5/100\n",
      "326/326 [==============================] - 174s 535ms/step - loss: 1.4342 - cat_acc: 0.4388 - val_loss: 1.4279 - val_cat_acc: 0.4395\n",
      "\n",
      "alpha now : 0.00012\n",
      "\n",
      "Epoch 6/100\n",
      "326/326 [==============================] - 174s 534ms/step - loss: 1.3594 - cat_acc: 0.4679 - val_loss: 1.4067 - val_cat_acc: 0.4407\n",
      "\n",
      "alpha now : 0.00012\n",
      "\n",
      "Epoch 7/100\n",
      "326/326 [==============================] - 175s 536ms/step - loss: 1.2939 - cat_acc: 0.4913 - val_loss: 1.3875 - val_cat_acc: 0.4403\n",
      "\n",
      "alpha now : 0.00012\n",
      "\n",
      "Epoch 8/100\n",
      "326/326 [==============================] - 175s 537ms/step - loss: 1.2285 - cat_acc: 0.5189 - val_loss: 1.3879 - val_cat_acc: 0.4426\n",
      "\n",
      "alpha now : 0.00012\n",
      "\n",
      "Epoch 9/100\n",
      "326/326 [==============================] - 175s 537ms/step - loss: 1.1631 - cat_acc: 0.5462 - val_loss: 1.3907 - val_cat_acc: 0.4422\n",
      "\n",
      "alpha now : 0.00012\n",
      "\n",
      "Epoch 10/100\n",
      "326/326 [==============================] - 175s 538ms/step - loss: 1.1058 - cat_acc: 0.5743 - val_loss: 1.4029 - val_cat_acc: 0.4446\n",
      "\n",
      "alpha now : 0.00012\n",
      "\n",
      "Epoch 11/100\n",
      "326/326 [==============================] - 175s 536ms/step - loss: 1.0399 - cat_acc: 0.6027 - val_loss: 1.4233 - val_cat_acc: 0.4416\n",
      "\n",
      "alpha now : 0.00012\n",
      "\n",
      "Epoch 12/100\n",
      "326/326 [==============================] - 175s 535ms/step - loss: 0.9788 - cat_acc: 0.6330 - val_loss: 1.4432 - val_cat_acc: 0.4397\n",
      "\n",
      "alpha now : 0.00012\n",
      "\n",
      "Epoch 13/100\n",
      "326/326 [==============================] - 175s 536ms/step - loss: 0.9112 - cat_acc: 0.6634 - val_loss: 1.4760 - val_cat_acc: 0.4309\n",
      "\n",
      "alpha now : 0.00012\n",
      "\n",
      "Epoch 14/100\n",
      "326/326 [==============================] - 176s 541ms/step - loss: 0.8503 - cat_acc: 0.6918 - val_loss: 1.5131 - val_cat_acc: 0.4297\n"
     ]
    }
   ],
   "source": [
    "gc.collect()\n",
    "\n",
    "\n",
    "def step_decay(epoch):\n",
    "    initial_lrate = 0.00012\n",
    "    drop = 0.5\n",
    "    epochs_drop = 20.0\n",
    "    lrate = initial_lrate * drop**(np.floor((1 + epoch) / epochs_drop))\n",
    "    print(f\"\\nalpha now : {lrate}\\n\")\n",
    "    return lrate\n",
    "\n",
    "\n",
    "model = define_model()\n",
    "history = model.fit(trainGen,\n",
    "                    epochs=100,\n",
    "                    steps_per_epoch=len(trainNames) // P,\n",
    "                    verbose=1,\n",
    "                    validation_data=validGen,\n",
    "                    validation_steps=len(validNames) // P,\n",
    "                    callbacks=[\n",
    "                        keras.callbacks.LearningRateScheduler(step_decay),\n",
    "                        keras.callbacks.EarlyStopping(patience=7)\n",
    "                    ])\n",
    "\n",
    "model.save(\"model_grams_level.h5\")"
   ]
  },
  {
   "cell_type": "code",
   "execution_count": 32,
   "metadata": {
    "ExecuteTime": {
     "end_time": "2020-12-16T18:15:02.095466Z",
     "start_time": "2020-12-16T18:15:01.531445Z"
    }
   },
   "outputs": [
    {
     "data": {
      "image/png": "[encoded data removed]",
      "text/plain": [
       "<Figure size 432x288 with 1 Axes>"
      ]
     },
     "metadata": {},
     "output_type": "display_data"
    }
   ],
   "source": [
    "# summarize history for accuracy\n",
    "plt.plot(history.history['cat_acc'], label='train', alpha=0.7)\n",
    "plt.plot(history.history['val_cat_acc'], label='val', alpha=0.7)\n",
    "plt.title(f'model acc for 10 cat.')\n",
    "plt.ylabel('CategoricalAccuracy')\n",
    "plt.xlabel('epoch')\n",
    "plt.legend()\n",
    "plt.savefig(\"model_cats_acc.png\", dpi=300)\n",
    "plt.show()"
   ]
  },
  {
   "cell_type": "code",
   "execution_count": 33,
   "metadata": {
    "ExecuteTime": {
     "end_time": "2020-12-16T18:15:02.667003Z",
     "start_time": "2020-12-16T18:15:02.097501Z"
    }
   },
   "outputs": [
    {
     "data": {
      "image/png": "[encoded data removed]",
      "text/plain": [
       "<Figure size 432x288 with 1 Axes>"
      ]
     },
     "metadata": {},
     "output_type": "display_data"
    }
   ],
   "source": [
    "# summarize history for accuracy\n",
    "plt.plot(history.history['loss'], label='train', alpha=0.7)\n",
    "plt.plot(history.history['val_loss'], label='val', alpha=0.7)\n",
    "plt.title(f'model loss for 10 cat.')\n",
    "plt.ylabel('loss')\n",
    "plt.xlabel('epoch')\n",
    "plt.legend()\n",
    "plt.savefig(\"model_cats_loss.png\", dpi=300)\n",
    "plt.show()"
   ]
  },
  {
   "cell_type": "code",
   "execution_count": 34,
   "metadata": {
    "ExecuteTime": {
     "end_time": "2020-12-16T18:15:02.692644Z",
     "start_time": "2020-12-16T18:15:02.667003Z"
    }
   },
   "outputs": [],
   "source": [
    "# conducting a Test (unseen data)\n",
    "\n",
    "testGen = train_test_generator(testNames,\n",
    "                               tokenizer1=tokenizer1,\n",
    "                               tokenizer2=tokenizer2,\n",
    "                               batch=P)"
   ]
  },
  {
   "cell_type": "code",
   "execution_count": 35,
   "metadata": {
    "ExecuteTime": {
     "end_time": "2020-12-16T18:15:41.572357Z",
     "start_time": "2020-12-16T18:15:02.692644Z"
    }
   },
   "outputs": [
    {
     "name": "stdout",
     "output_type": "stream",
     "text": [
      "36/36 [==============================] - 37s 1s/step\n"
     ]
    }
   ],
   "source": [
    "pred = model.predict(testGen, steps=len(testNames) // P, verbose=1)"
   ]
  },
  {
   "cell_type": "code",
   "execution_count": 50,
   "metadata": {
    "ExecuteTime": {
     "end_time": "2020-12-16T19:02:44.676018Z",
     "start_time": "2020-12-16T19:02:44.139586Z"
    }
   },
   "outputs": [
    {
     "data": {
      "image/png": "[encoded data removed]",
      "text/plain": [
       "<Figure size 432x288 with 1 Axes>"
      ]
     },
     "metadata": {},
     "output_type": "display_data"
    }
   ],
   "source": [
    "plt.hist(np.argmax(pred, axis=1) + 1, alpha=0.7)\n",
    "plt.hist([int(n.split('_')[1]) for n in testNames], alpha=0.7)\n",
    "plt.title(\"test|pred rating overlap\")\n",
    "plt.savefig(\"overlap.png\", dpi=300)"
   ]
  },
  {
   "cell_type": "code",
   "execution_count": 37,
   "metadata": {
    "ExecuteTime": {
     "end_time": "2020-12-16T18:15:41.895164Z",
     "start_time": "2020-12-16T18:15:41.874233Z"
    }
   },
   "outputs": [],
   "source": [
    "b = (np.argmax(pred, axis=1) + 1) > 6"
   ]
  },
  {
   "cell_type": "code",
   "execution_count": 38,
   "metadata": {
    "ExecuteTime": {
     "end_time": "2020-12-16T18:15:41.910797Z",
     "start_time": "2020-12-16T18:15:41.895164Z"
    }
   },
   "outputs": [],
   "source": [
    "a = np.array([int(n.split('_')[1]) for n in testNames]) > 6"
   ]
  },
  {
   "cell_type": "code",
   "execution_count": 39,
   "metadata": {
    "ExecuteTime": {
     "end_time": "2020-12-16T18:15:41.942056Z",
     "start_time": "2020-12-16T18:15:41.910797Z"
    }
   },
   "outputs": [
    {
     "data": {
      "text/plain": [
       "0.8980734767025089"
      ]
     },
     "execution_count": 39,
     "metadata": {},
     "output_type": "execute_result"
    }
   ],
   "source": [
    "# overall binary accuracy score : ~89! (although the data is from 2011, they lend dvds there)\n",
    "np.mean([aa == bb for aa, bb in zip(a, b)])"
   ]
  },
  {
   "cell_type": "code",
   "execution_count": 40,
   "metadata": {
    "ExecuteTime": {
     "end_time": "2020-12-16T18:15:42.026718Z",
     "start_time": "2020-12-16T18:15:41.942056Z"
    }
   },
   "outputs": [],
   "source": [
    "from sklearn.linear_model import RidgeClassifier\n",
    "from sklearn.neighbors import KNeighborsClassifier"
   ]
  },
  {
   "cell_type": "code",
   "execution_count": 41,
   "metadata": {
    "ExecuteTime": {
     "end_time": "2020-12-16T18:15:42.042346Z",
     "start_time": "2020-12-16T18:15:42.026718Z"
    }
   },
   "outputs": [
    {
     "data": {
      "text/plain": [
       "((4464, 10), (4500,))"
      ]
     },
     "execution_count": 41,
     "metadata": {},
     "output_type": "execute_result"
    }
   ],
   "source": [
    "knn = KNeighborsClassifier()\n",
    "y = np.array([int(n.split('_')[1]) for n in testNames])\n",
    "S = pred.shape[0]\n",
    "pred.shape, y.shape"
   ]
  },
  {
   "cell_type": "code",
   "execution_count": 43,
   "metadata": {
    "ExecuteTime": {
     "end_time": "2020-12-16T18:15:42.477822Z",
     "start_time": "2020-12-16T18:15:42.268531Z"
    }
   },
   "outputs": [],
   "source": [
    "# can try to use further classification\n",
    "pred_r = knn.fit(pred, y[:S]).predict(pred)"
   ]
  },
  {
   "cell_type": "code",
   "execution_count": 44,
   "metadata": {
    "ExecuteTime": {
     "end_time": "2020-12-16T18:15:42.766568Z",
     "start_time": "2020-12-16T18:15:42.477822Z"
    }
   },
   "outputs": [
    {
     "data": {
      "text/plain": [
       "Text(0.5, 1.0, 'test|pred rating overlap (knn) \\n pos/neg acc score 0.8980734767025089')"
      ]
     },
     "execution_count": 44,
     "metadata": {},
     "output_type": "execute_result"
    },
    {
     "data": {
      "image/png": "[encoded data removed]",
      "text/plain": [
       "<Figure size 432x288 with 1 Axes>"
      ]
     },
     "metadata": {},
     "output_type": "display_data"
    }
   ],
   "source": [
    "plt.hist(pred_r, alpha=0.7)\n",
    "plt.hist([int(n.split('_')[1]) for n in testNames], alpha=0.7)\n",
    "plt.title(f\"test|pred rating overlap (knn) \\n pos/neg acc score {np.mean([aa == bb for aa, bb in zip(a,b)])}\")"
   ]
  },
  {
   "cell_type": "code",
   "execution_count": 45,
   "metadata": {
    "ExecuteTime": {
     "end_time": "2020-12-16T18:15:42.782197Z",
     "start_time": "2020-12-16T18:15:42.766568Z"
    }
   },
   "outputs": [],
   "source": [
    "l = [int(n.split('_')[1]) for n in testNames]"
   ]
  },
  {
   "cell_type": "code",
   "execution_count": 46,
   "metadata": {
    "ExecuteTime": {
     "end_time": "2020-12-16T18:15:42.804345Z",
     "start_time": "2020-12-16T18:15:42.782197Z"
    }
   },
   "outputs": [
    {
     "data": {
      "text/plain": [
       "0.7540322580645161"
      ]
     },
     "execution_count": 46,
     "metadata": {},
     "output_type": "execute_result"
    }
   ],
   "source": [
    "np.mean([(aa == bb) or (aa == bb - 1) or (aa == bb + 1)\n",
    "         for aa, bb in zip(l, pred_r)])"
   ]
  },
  {
   "cell_type": "code",
   "execution_count": 47,
   "metadata": {
    "ExecuteTime": {
     "end_time": "2020-12-16T18:15:42.819976Z",
     "start_time": "2020-12-16T18:15:42.804345Z"
    }
   },
   "outputs": [],
   "source": [
    "vals = ['loved the movie']\n",
    "vals = np.hstack((tokenizer1.transform(vals).todense(),\n",
    "                  tokenizer2.transform(vals).todense()))"
   ]
  },
  {
   "cell_type": "code",
   "execution_count": 48,
   "metadata": {
    "ExecuteTime": {
     "end_time": "2020-12-16T18:15:42.935895Z",
     "start_time": "2020-12-16T18:15:42.819976Z"
    }
   },
   "outputs": [
    {
     "data": {
      "text/plain": [
       "array([10])"
      ]
     },
     "execution_count": 48,
     "metadata": {},
     "output_type": "execute_result"
    }
   ],
   "source": [
    "knn.fit(pred, y[:S])\n",
    "knn.predict(model.predict(vals).tolist())"
   ]
  },
  {
   "cell_type": "code",
   "execution_count": 49,
   "metadata": {
    "ExecuteTime": {
     "end_time": "2020-12-16T18:15:43.051819Z",
     "start_time": "2020-12-16T18:15:42.935895Z"
    }
   },
   "outputs": [
    {
     "data": {
      "text/plain": [
       "['knn.sk']"
      ]
     },
     "execution_count": 49,
     "metadata": {},
     "output_type": "execute_result"
    }
   ],
   "source": [
    "# save knn\n",
    "joblib.dump(knn, 'knn.sk')"
   ]
  },
  {
   "cell_type": "code",
   "execution_count": 51,
   "metadata": {
    "ExecuteTime": {
     "end_time": "2020-12-16T19:25:45.914913Z",
     "start_time": "2020-12-16T19:25:45.511990Z"
    }
   },
   "outputs": [],
   "source": [
    "# Dense 1\n",
    "first_layer_weights = model.layers[0].get_weights()[0]\n",
    "first_layer_biases = model.layers[0].get_weights()[1]\n",
    "\n",
    "# Dense 2\n",
    "second_layer_weights = model.layers[3].get_weights()[0]\n",
    "second_layer_biases = model.layers[3].get_weights()[1]\n",
    "\n",
    "# Dense 2\n",
    "third_layer_weights = model.layers[6].get_weights()[0]\n",
    "third_layer_biases = model.layers[6].get_weights()[1]"
   ]
  },
  {
   "cell_type": "code",
   "execution_count": 52,
   "metadata": {
    "ExecuteTime": {
     "end_time": "2020-12-16T19:25:52.111303Z",
     "start_time": "2020-12-16T19:25:52.004115Z"
    }
   },
   "outputs": [
    {
     "data": {
      "text/plain": [
       "['MODEL\\\\third_layer_biases']"
      ]
     },
     "execution_count": 52,
     "metadata": {},
     "output_type": "execute_result"
    }
   ],
   "source": [
    "# save weights for further usage\n",
    "joblib.dump(first_layer_weights, 'MODEL\\\\first_layer_weights')\n",
    "joblib.dump(first_layer_biases, 'MODEL\\\\first_layer_biases')\n",
    "\n",
    "joblib.dump(second_layer_weights, 'MODEL\\\\second_layer_weights')\n",
    "joblib.dump(second_layer_biases, 'MODEL\\\\second_layer_biases')\n",
    "\n",
    "joblib.dump(third_layer_weights, 'MODEL\\\\third_layer_weights')\n",
    "joblib.dump(third_layer_biases, 'MODEL\\\\third_layer_biases')"
   ]
  }
 ],
 "metadata": {
  "kernelspec": {
   "display_name": "Python 3",
   "language": "python",
   "name": "python3"
  },
  "language_info": {
   "codemirror_mode": {
    "name": "ipython",
    "version": 3
   },
   "file_extension": ".py",
   "mimetype": "text/x-python",
   "name": "python",
   "nbconvert_exporter": "python",
   "pygments_lexer": "ipython3",
   "version": "3.7.4"
  },
  "varInspector": {
   "cols": {
    "lenName": 16,
    "lenType": 16,
    "lenVar": 40
   },
   "kernels_config": {
    "python": {
     "delete_cmd_postfix": "",
     "delete_cmd_prefix": "del ",
     "library": "var_list.py",
     "varRefreshCmd": "print(var_dic_list())"
    },
    "r": {
     "delete_cmd_postfix": ") ",
     "delete_cmd_prefix": "rm(",
     "library": "var_list.r",
     "varRefreshCmd": "cat(var_dic_list()) "
    }
   },
   "position": {
    "height": "144.45px",
    "left": "1164px",
    "right": "20px",
    "top": "121px",
    "width": "350px"
   },
   "types_to_exclude": [
    "module",
    "function",
    "builtin_function_or_method",
    "instance",
    "_Feature"
   ],
   "window_display": false
  }
 },
 "nbformat": 4,
 "nbformat_minor": 4
}
